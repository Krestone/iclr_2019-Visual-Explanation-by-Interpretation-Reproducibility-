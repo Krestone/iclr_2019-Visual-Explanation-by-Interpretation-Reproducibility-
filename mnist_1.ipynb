{
 "cells": [
  {
   "cell_type": "code",
   "execution_count": 13,
   "metadata": {},
   "outputs": [
    {
     "name": "stdout",
     "output_type": "stream",
     "text": [
      "['/device:CPU:0', '/device:GPU:0']\n"
     ]
    }
   ],
   "source": [
    "from tensorflow.python.client import device_lib\n",
    "\n",
    "def get_available_devices():\n",
    "    local_device_protos = device_lib.list_local_devices()\n",
    "    return [x.name for x in local_device_protos]\n",
    "\n",
    "print(get_available_devices())"
   ]
  },
  {
   "cell_type": "code",
   "execution_count": 14,
   "metadata": {},
   "outputs": [
    {
     "name": "stdout",
     "output_type": "stream",
     "text": [
      "Using Keras version: 2.2.4 backend: tensorflow\n"
     ]
    }
   ],
   "source": [
    "from keras.models import Sequential\n",
    "from keras.layers import Dense, Activation, Dropout, Flatten, MaxPooling2D\n",
    "from keras.layers.convolutional import Conv2D \n",
    "from keras.utils import np_utils\n",
    "from keras import backend as K\n",
    "\n",
    "from distutils.version import LooseVersion as LV\n",
    "from keras import __version__\n",
    "\n",
    "from IPython.display import SVG\n",
    "from keras.utils.vis_utils import model_to_dot\n",
    "\n",
    "import numpy as np\n",
    "from sklearn.preprocessing import normalize\n",
    "from keras.models import model_from_json\n",
    "\n",
    "import random\n",
    "from keract import get_activations, display_activations\n",
    "\n",
    "import tensorflow as tf\n",
    "from tensorflow import norm, Session\n",
    "import matplotlib.pyplot as plt\n",
    "import seaborn as sns\n",
    "sns.set()\n",
    "from sklearn import linear_model\n",
    "print('Using Keras version:', __version__, 'backend:', K.backend())\n",
    "assert(LV(__version__) >= LV(\"2.0.0\"))"
   ]
  },
  {
   "cell_type": "code",
   "execution_count": 15,
   "metadata": {},
   "outputs": [
    {
     "name": "stdout",
     "output_type": "stream",
     "text": [
      "[[22. 28.]\n",
      " [49. 64.]]\n"
     ]
    }
   ],
   "source": [
    "# Creates a graph.\n",
    "a = tf.constant([1.0, 2.0, 3.0, 4.0, 5.0, 6.0], shape=[2, 3], name='a')\n",
    "b = tf.constant([1.0, 2.0, 3.0, 4.0, 5.0, 6.0], shape=[3, 2], name='b')\n",
    "c = tf.matmul(a, b)\n",
    "# Creates a session with log_device_placement set to True.\n",
    "sess = tf.Session(config=tf.ConfigProto(log_device_placement=True))\n",
    "# Runs the op.\n",
    "print(sess.run(c))"
   ]
  },
  {
   "cell_type": "code",
   "execution_count": 16,
   "metadata": {},
   "outputs": [
    {
     "name": "stdout",
     "output_type": "stream",
     "text": [
      "\n",
      "MNIST data loaded: train: 60000 test: 10000\n",
      "X_train: (60000, 28, 28)\n",
      "y_train: (60000,)\n",
      "Y_train: (60000, 10)\n"
     ]
    }
   ],
   "source": [
    "from keras.datasets import mnist\n",
    "(X_train, y_train), (X_test, y_test) = mnist.load_data()\n",
    "\n",
    "nb_classes = 10\n",
    "\n",
    "X_train = X_train.astype('float32')\n",
    "X_test = X_test.astype('float32')\n",
    "X_train /= 255\n",
    "X_test /= 255\n",
    "\n",
    "# one-hot encoding:\n",
    "Y_train = np_utils.to_categorical(y_train, nb_classes)\n",
    "Y_test = np_utils.to_categorical(y_test, nb_classes)\n",
    "\n",
    "print()\n",
    "print('MNIST data loaded: train:',len(X_train),'test:',len(X_test))\n",
    "print('X_train:', X_train.shape)\n",
    "print('y_train:', y_train.shape)\n",
    "print('Y_train:', Y_train.shape)"
   ]
  },
  {
   "cell_type": "code",
   "execution_count": 17,
   "metadata": {},
   "outputs": [
    {
     "name": "stdout",
     "output_type": "stream",
     "text": [
      "X_train: (60000, 28, 28, 1)\n"
     ]
    }
   ],
   "source": [
    "# input image dimensions\n",
    "img_rows, img_cols = 28, 28\n",
    "\n",
    "if K.image_dim_ordering() == 'th':\n",
    "    X_train = X_train.reshape(X_train.shape[0], 1, img_rows, img_cols)\n",
    "    X_test = X_test.reshape(X_test.shape[0], 1, img_rows, img_cols)\n",
    "    input_shape = (1, img_rows, img_cols)\n",
    "else:\n",
    "    X_train = X_train.reshape(X_train.shape[0], img_rows, img_cols, 1)\n",
    "    X_test = X_test.reshape(X_test.shape[0], img_rows, img_cols, 1)\n",
    "    input_shape = (img_rows, img_cols, 1)\n",
    "    \n",
    "print('X_train:', X_train.shape)"
   ]
  },
  {
   "cell_type": "code",
   "execution_count": 18,
   "metadata": {},
   "outputs": [
    {
     "name": "stdout",
     "output_type": "stream",
     "text": [
      "_________________________________________________________________\n",
      "Layer (type)                 Output Shape              Param #   \n",
      "=================================================================\n",
      "conv2d_6 (Conv2D)            (None, 28, 28, 128)       1280      \n",
      "_________________________________________________________________\n",
      "conv2d_7 (Conv2D)            (None, 28, 28, 128)       147584    \n",
      "_________________________________________________________________\n",
      "conv2d_8 (Conv2D)            (None, 28, 28, 128)       147584    \n",
      "_________________________________________________________________\n",
      "conv2d_9 (Conv2D)            (None, 28, 28, 128)       147584    \n",
      "_________________________________________________________________\n",
      "conv2d_10 (Conv2D)           (None, 28, 28, 128)       147584    \n",
      "_________________________________________________________________\n",
      "flatten_2 (Flatten)          (None, 100352)            0         \n",
      "_________________________________________________________________\n",
      "dense_4 (Dense)              (None, 128)               12845184  \n",
      "_________________________________________________________________\n",
      "dense_5 (Dense)              (None, 128)               16512     \n",
      "_________________________________________________________________\n",
      "dropout_2 (Dropout)          (None, 128)               0         \n",
      "_________________________________________________________________\n",
      "dense_6 (Dense)              (None, 10)                1290      \n",
      "=================================================================\n",
      "Total params: 13,454,602\n",
      "Trainable params: 13,454,602\n",
      "Non-trainable params: 0\n",
      "_________________________________________________________________\n",
      "None\n"
     ]
    }
   ],
   "source": [
    "# number of convolutional filters to use\n",
    "nb_filters = 128\n",
    "# convolution kernel size\n",
    "kernel_size = (3, 3)\n",
    "# size of pooling area for max pooling\n",
    "pool_size = (2, 2)\n",
    "\n",
    "model = Sequential()\n",
    "\n",
    "model.add(Conv2D(nb_filters, kernel_size,\n",
    "                 padding='same',\n",
    "                 activation='relu',\n",
    "                 input_shape=input_shape))\n",
    "\n",
    "model.add(Conv2D(nb_filters, kernel_size,\n",
    "                 padding='same',\n",
    "                 activation='relu'))\n",
    "\n",
    "\n",
    "model.add(Conv2D(nb_filters, kernel_size,\n",
    "                 padding='same',\n",
    "                 activation='relu'))\n",
    "model.add(Conv2D(nb_filters, kernel_size,\n",
    "                 padding='same',\n",
    "                 activation='relu'))\n",
    "model.add(Conv2D(nb_filters, kernel_size,\n",
    "                 padding='same',\n",
    "                 activation='relu'))\n",
    "\n",
    "\n",
    "model.add(Flatten())\n",
    "model.add(Dense(128, activation = 'relu'))#model.add(Dropout(0.5))\n",
    "model.add(Dense(128, activation = 'relu'))\n",
    "model.add(Dropout(0.5))\n",
    "model.add(Dense(nb_classes , activation = 'softmax'))\n",
    "\n",
    "\n",
    "model.compile(loss='categorical_crossentropy',\n",
    "              optimizer='rmsprop',\n",
    "              metrics=['accuracy'])\n",
    "\n",
    "print(model.summary())"
   ]
  },
  {
   "cell_type": "code",
   "execution_count": 19,
   "metadata": {},
   "outputs": [
    {
     "name": "stdout",
     "output_type": "stream",
     "text": [
      "CPU times: user 0 ns, sys: 0 ns, total: 0 ns\n",
      "Wall time: 6.91 µs\n",
      "Epoch 1/5\n",
      " - 14s - loss: 0.2743 - acc: 0.9218\n",
      "Epoch 2/5\n",
      " - 10s - loss: 0.0614 - acc: 0.9835\n",
      "Epoch 3/5\n",
      " - 10s - loss: 0.0423 - acc: 0.9891\n",
      "Epoch 4/5\n",
      " - 10s - loss: 0.0308 - acc: 0.9920\n",
      "Epoch 5/5\n",
      " - 10s - loss: 0.0249 - acc: 0.9933\n"
     ]
    }
   ],
   "source": [
    "%time\n",
    "\n",
    "epochs = 5 # one epoch takes about 45 seconds\n",
    "\n",
    "history = model.fit(X_train, \n",
    "                    Y_train, \n",
    "                    epochs=epochs, \n",
    "                    batch_size=128,\n",
    "                    verbose=2)\n",
    "\n",
    "\n",
    "\n"
   ]
  },
  {
   "cell_type": "code",
   "execution_count": 20,
   "metadata": {
    "scrolled": true
   },
   "outputs": [
    {
     "data": {
      "image/png": "[encoded data removed]",
      "text/plain": [
       "<Figure size 360x216 with 1 Axes>"
      ]
     },
     "metadata": {},
     "output_type": "display_data"
    },
    {
     "data": {
      "image/png": "[encoded data removed]",
      "text/plain": [
       "<Figure size 360x216 with 1 Axes>"
      ]
     },
     "metadata": {},
     "output_type": "display_data"
    }
   ],
   "source": [
    "plt.figure(figsize=(5,3))\n",
    "plt.plot(history.epoch,history.history['loss'])\n",
    "plt.title('loss')\n",
    "\n",
    "plt.figure(figsize=(5,3))\n",
    "plt.plot(history.epoch,history.history['acc'])\n",
    "plt.title('accuracy');"
   ]
  },
  {
   "cell_type": "code",
   "execution_count": 21,
   "metadata": {},
   "outputs": [
    {
     "name": "stdout",
     "output_type": "stream",
     "text": [
      "acc: 99.19%\n",
      "Saved model to disk\n",
      "CPU times: user 1.01 s, sys: 372 ms, total: 1.38 s\n",
      "Wall time: 1.28 s\n"
     ]
    }
   ],
   "source": [
    "%%time\n",
    "scores = model.evaluate(X_test, Y_test, verbose=2)\n",
    "print(\"%s: %.2f%%\" % (model.metrics_names[1], scores[1]*100))\n",
    "\n",
    "\n",
    "\n",
    "# serialize model to JSON\n",
    "model_json = model.to_json()\n",
    "with open(\"model.json\", \"w\") as json_file:\n",
    "    json_file.write(model_json)\n",
    "# serialize weights to HDF5\n",
    "model.save_weights(\"model.h5\")\n",
    "print(\"Saved model to disk\")"
   ]
  },
  {
   "cell_type": "code",
   "execution_count": 22,
   "metadata": {},
   "outputs": [],
   "source": [
    "##### Load the model\n",
    "#\n",
    "#with open('model.json','r') as f:\n",
    "#    json = f.read()\n",
    "#loaded_model = model_from_json(json)\n",
    "\n",
    "#loaded_model.load_weights(\"model.h5\")\n",
    "\n",
    "#loaded_model.compile(loss='categorical_crossentropy',\n",
    "#              optimizer='rmsprop',\n",
    "#              metrics=['accuracy'])\n",
    "\n",
    "#scores = loaded_model.evaluate(X_test, Y_test, verbose=2)\n",
    "#print(\"%s: %.2f%%\" % (loaded_model.metrics_names[1], scores[1]*100))\n",
    "\n",
    "#model=loaded_model\n"
   ]
  },
  {
   "cell_type": "code",
   "execution_count": null,
   "metadata": {},
   "outputs": [
    {
     "name": "stdout",
     "output_type": "stream",
     "text": [
      "0\n"
     ]
    }
   ],
   "source": [
    "#from keract import get_activations, display_activations\n",
    "\n",
    "\n",
    "def print_names_and_shapes(activations):  # dict\n",
    "    for layer_name, layer_activations in activations.items():\n",
    "        print(layer_name)\n",
    "        print(layer_activations.shape)\n",
    "        print('')\n",
    "\n",
    "\n",
    "def print_names_and_values(activations):  # dict\n",
    "    for layer_name, layer_activations in activations.items():\n",
    "        print(layer_name)\n",
    "        print(layer_activations)\n",
    "        print('')\n",
    "\n",
    "\n",
    "\n",
    "\n",
    "#print_names_and_shapes(activations)\n",
    "#display_activations(activations)\n",
    "\n",
    "\n",
    "###get number of total conv_filters###\n",
    "total_filters = nb_filters*5\n",
    "#for layer_name, layer_activations in activations.items():\n",
    "#    if( layer_name.startswith('conv') ):\n",
    "#        total_filters += layer_activations.shape[3] \n",
    "\n",
    "\n",
    "###response matrix X : (example * filters)###       \n",
    "image_responses = np.empty((60000 ,total_filters))\n",
    "init_row = 0\n",
    "\n",
    "for i in range(30):\n",
    "    print(i)\n",
    "    activations = get_activations(model, X_train[init_row:init_row+2000,:,:])\n",
    "    init = 0\n",
    "    for layer_name, layer_activations in activations.items():\n",
    "        #print(layer_name)\n",
    "        if( layer_name.startswith('conv') ):\n",
    "            num_filters = layer_activations.shape[3]\n",
    "            with tf.Session() as sess:        \n",
    "                ###L2 norms of filter responses###\n",
    "                layer_activations = tf.norm(layer_activations, ord =2, axis=2)\n",
    "                layer_activations = tf.norm(layer_activations, ord=2, axis=1)\n",
    "                result = sess.run(layer_activations)\n",
    "\n",
    "                ###L1 normalize layer wise###\n",
    "                layer_activations_normalized = normalize(result, axis=1, norm='l1')\n",
    "\n",
    "                #print(layer_activations_normalized)\n",
    "                upper_limit = init + num_filters\n",
    "                image_responses[init_row:init_row+2000, init:upper_limit] = layer_activations_normalized\n",
    "                init += num_filters\n",
    "    init_row+= 2000\n",
    "    \n",
    "        \n",
    "print(image_responses.shape)        \n",
    "        \n",
    "###norm sanity check###\n",
    "#layer_acts2 = activations[\"conv2d_1/Relu:0\"]\n",
    "#act0 = layer_acts2[0,:,:,1]\n",
    "#print(np.linalg.norm(act0))\n",
    "#plt.imshow(act0.reshape(28,28))"
   ]
  },
  {
   "cell_type": "code",
   "execution_count": null,
   "metadata": {},
   "outputs": [],
   "source": [
    "from spgl1 import spgl1, spg_lasso, spgSetParms\n",
    "\n",
    "# % -----------------------------------------------------------\n",
    "    # % Solve LASSO problem for ||x||_1 <= tau\n",
    "    # \n",
    "    #   argminW ||XW-L||_2 subject to ||x||_1 <= tau.\n",
    "    # \n",
    "    #    Where \n",
    "    #        X: (example * filters) matrix\n",
    "    #        W: (filter * class) matrix\n",
    "    #        L: (example * class) matrix\n",
    "    #\n",
    "    # % ----------------------------------------------------------\n",
    "\n",
    "\n",
    "#L = Y_train[:10000,:]\n",
    "#clf = linear_model.Lasso(alpha=0.00001, normalize=False)\n",
    "#clf.fit(image_responses,L)\n",
    "#W = clf.coef_\n",
    "#print(W)\n",
    "#np.savetxt(\"sparse_features.csv\", W, delimiter=\",\")\n",
    "\n",
    "\n",
    "\n",
    "X_t = image_responses\n",
    "L_t = Y_train[:, :]\n",
    "\n",
    "print(\"x.t shape\", X_t.shape)\n",
    "print(\"l.t shape\", L_t.shape)\n",
    "\n",
    "W_opt = np.empty((X_t.shape[1], L_t.shape[1]))\n",
    "\n",
    "w = np.empty((X_t.shape[1],))\n",
    "\n",
    "for i in range(W_opt.shape[1]):\n",
    "    b = L_t[:,i]\n",
    "    tau = 10\n",
    "    w ,resid,grad,info = spg_lasso(X_t, b, tau)\n",
    "    W_opt[:,i] = w\n",
    "    \n",
    "    \n",
    "print(W_opt)\n",
    "print(W_opt.shape)\n",
    "\n",
    "W = W_opt.T\n",
    "\n",
    "\n"
   ]
  },
  {
   "cell_type": "code",
   "execution_count": null,
   "metadata": {},
   "outputs": [],
   "source": [
    "##ONLY CONV\n",
    "\n",
    "# load json and create model\n",
    "\n",
    "##### Load the model\n",
    "\n",
    "with open('model.json','r') as f:\n",
    "    json = f.read()\n",
    "loaded_model = model_from_json(json)\n",
    "\n",
    "loaded_model.load_weights(\"model.h5\")\n",
    "\n",
    "\n",
    "\n",
    "z = np.zeros((3,3))\n",
    "def only_conv(model):\n",
    "    init = 0\n",
    "    for layer in model.layers:\n",
    "        if( layer.name.startswith('conv') ):\n",
    "            print(layer.name)\n",
    "\n",
    "            layer_weights = layer.get_weights()\n",
    "            layer_weights_copy = layer.get_weights()\n",
    "\n",
    "            num_filters = layer.get_weights()[0].shape[3]\n",
    "            upper_limit = init + num_filters\n",
    "\n",
    "            W_layer = W[:, init:upper_limit]\n",
    "            nonzero = np.nonzero(W_layer)\n",
    "         \n",
    "            dropped_filters = list(set(nonzero[1]))\n",
    "            print(dropped_filters)\n",
    "            print(\"Number of filters dropped: \", len(dropped_filters))\n",
    "            \n",
    "            #print(z.shape)\n",
    "            for filt in dropped_filters:\n",
    "                #print(filt)\n",
    "                layer_weights_copy[0][:,:,0,filt] = 0\n",
    "                layer_weights_copy[1][filt] = 0 \n",
    "            #for i in range(31):\n",
    "            #    print(layer_weights_copy[1])\n",
    "\n",
    "            layer.set_weights(layer_weights_copy)\n",
    "            init += num_filters\n",
    "            #print(layer_weights_copy)\n",
    "only_conv(loaded_model)\n",
    "  \n",
    "\n",
    "\n",
    "\n"
   ]
  },
  {
   "cell_type": "code",
   "execution_count": null,
   "metadata": {},
   "outputs": [],
   "source": [
    "loaded_model.compile(loss='categorical_crossentropy',\n",
    "              optimizer='rmsprop',\n",
    "              metrics=['accuracy'])\n",
    "\n",
    "scores = loaded_model.evaluate(X_test, Y_test, verbose=2)\n",
    "print(\"%s: %.2f%%\" % (model.metrics_names[1], scores[1]*100))"
   ]
  },
  {
   "cell_type": "code",
   "execution_count": null,
   "metadata": {},
   "outputs": [],
   "source": [
    "\n",
    "#RANDOM CONV NO AMOUNT CONTROL\n",
    "\n",
    "##### Load the model\n",
    "\n",
    "with open('model.json','r') as f:\n",
    "    json = f.read()\n",
    "loaded_model = model_from_json(json)\n",
    "\n",
    "loaded_model.load_weights(\"model.h5\")\n",
    "\n",
    "\n",
    "\n",
    "\n",
    "#z = np.zeros((3,3))\n",
    "def only_conv_random(model):\n",
    "    init = 0\n",
    "    for layer in model.layers:\n",
    "        if( layer.name.startswith('conv') ):\n",
    "            print(layer.name)\n",
    "            #print(layer.get_weights()[0].shape)\n",
    "\n",
    "            layer_weights = layer.get_weights()\n",
    "            layer_weights_copy = layer.get_weights()\n",
    "\n",
    "            num_filters = layer.get_weights()[0].shape[3]\n",
    "            upper_limit = init + num_filters\n",
    "\n",
    "            num_drop_filters = np.random.randint(0, high=num_filters)\n",
    "       \n",
    "            dropped_filters = np.random.randint(0, high=num_filters, size=(num_drop_filters,))\n",
    "          \n",
    "            dropped_filters = list(set(dropped_filters))\n",
    "            print(dropped_filters)\n",
    "            print(\"Number of filters dropped: \", len(dropped_filters))\n",
    "            z = np.zeros(layer_weights_copy[0][:,:,0,0].shape)\n",
    "\n",
    "            for filt in range(0, 83): \n",
    "                layer_weights_copy[0][:,:,0,filt] = 0\n",
    "                layer_weights_copy[1][filt] = 0 \n",
    "\n",
    "            layer.set_weights(layer_weights_copy)\n",
    "            init += num_filters\n",
    "            \n",
    "only_conv_random(loaded_model)\n",
    "\n",
    "loaded_model.compile(loss='categorical_crossentropy',\n",
    "              optimizer='rmsprop',\n",
    "              metrics=['accuracy'])"
   ]
  },
  {
   "cell_type": "code",
   "execution_count": null,
   "metadata": {},
   "outputs": [],
   "source": [
    "\n",
    "\n",
    "scores = loaded_model.evaluate(X_test, Y_test, verbose=2)\n",
    "print(\"%s: %.2f%%\" % (loaded_model.metrics_names[1], scores[1]*100))"
   ]
  },
  {
   "cell_type": "code",
   "execution_count": null,
   "metadata": {},
   "outputs": [],
   "source": [
    "#RANDOM CONV ABLATION WITH AMOUNT CONTROLLED\n",
    "##### Load the model\n",
    "with open('model.json','r') as f:\n",
    "    json = f.read()\n",
    "loaded_model = model_from_json(json)\n",
    "\n",
    "loaded_model.load_weights(\"model.h5\")\n",
    "\n",
    "\n",
    "\n",
    "\n",
    "#z = np.zeros((3,3))\n",
    "def only_conv_random_c(model):\n",
    "        init = 0\n",
    "        for layer in model.layers:\n",
    "                if( layer.name.startswith('conv') ):\n",
    "                    print(layer.name)\n",
    "                    #print(layer.get_weights()[0].shape)\n",
    "\n",
    "                    layer_weights = layer.get_weights()\n",
    "                    layer_weights_copy = layer.get_weights()\n",
    "\n",
    "                    num_filters = layer.get_weights()[0].shape[3]\n",
    "                    upper_limit = init + num_filters\n",
    "\n",
    "                    W_layer = W[:, init:upper_limit]\n",
    "                    nonzero = np.nonzero(W_layer)\n",
    "\n",
    "                    num_drop_filters = len(list(set(nonzero[1])))\n",
    "\n",
    "                    samp = random.sample(range(nb_filters), num_drop_filters)\n",
    "                    #print(samp)\n",
    "                    dropped_filters = samp\n",
    "\n",
    "                    print(dropped_filters)\n",
    "                    print(\"Number of filters dropped: \", len(dropped_filters))\n",
    "                   \n",
    "\n",
    "                    for filt in dropped_filters: \n",
    "                        layer_weights_copy[0][:,:,0,filt] = 0\n",
    "                        layer_weights_copy[1][filt] = 0 \n",
    "\n",
    "                    layer.set_weights(layer_weights_copy)\n",
    "                    init += num_filters\n",
    "\n",
    "           \n",
    "        \n",
    "only_conv_random_c(loaded_model)\n",
    "\n",
    "\n",
    "loaded_model.compile(loss='categorical_crossentropy',\n",
    "                    optimizer='rmsprop',\n",
    "                      metrics=['accuracy'])\n",
    "\n",
    "scores = loaded_model.evaluate(X_test, Y_test, verbose=2)\n",
    "print(\"%s: %.2f%%\" % (model.metrics_names[1], scores[1]*100))\n",
    "scores.append(scores[1]*100)    \n",
    "\n",
    "\n"
   ]
  },
  {
   "cell_type": "code",
   "execution_count": null,
   "metadata": {},
   "outputs": [],
   "source": [
    "loaded_model.compile(loss='categorical_crossentropy',\n",
    "              optimizer='rmsprop',\n",
    "              metrics=['accuracy'])\n",
    "\n",
    "scores = loaded_model.evaluate(X_test, Y_test, verbose=2)\n",
    "print(\"%s: %.2f%%\" % (model.metrics_names[1], scores[1]*100))"
   ]
  },
  {
   "cell_type": "code",
   "execution_count": null,
   "metadata": {},
   "outputs": [],
   "source": []
  },
  {
   "cell_type": "code",
   "execution_count": null,
   "metadata": {},
   "outputs": [],
   "source": []
  }
 ],
 "metadata": {
  "kernelspec": {
   "display_name": "Python 3",
   "language": "python",
   "name": "python3"
  },
  "language_info": {
   "codemirror_mode": {
    "name": "ipython",
    "version": 3
   },
   "file_extension": ".py",
   "mimetype": "text/x-python",
   "name": "python",
   "nbconvert_exporter": "python",
   "pygments_lexer": "ipython3",
   "version": "3.6.5"
  }
 },
 "nbformat": 4,
 "nbformat_minor": 2
}
