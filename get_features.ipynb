{
 "cells": [
  {
   "cell_type": "code",
   "execution_count": 1,
   "metadata": {},
   "outputs": [
    {
     "name": "stdout",
     "output_type": "stream",
     "text": [
      "['/device:CPU:0', '/device:GPU:0']\n"
     ]
    }
   ],
   "source": [
    "from tensorflow.python.client import device_lib\n",
    "\n",
    "def get_available_devices():\n",
    "    local_device_protos = device_lib.list_local_devices()\n",
    "    return [x.name for x in local_device_protos]\n",
    "\n",
    "print(get_available_devices())"
   ]
  },
  {
   "cell_type": "code",
   "execution_count": 2,
   "metadata": {},
   "outputs": [
    {
     "name": "stderr",
     "output_type": "stream",
     "text": [
      "Using TensorFlow backend.\n"
     ]
    },
    {
     "name": "stdout",
     "output_type": "stream",
     "text": [
      "Using Keras version: 2.2.4 backend: tensorflow\n"
     ]
    }
   ],
   "source": [
    "from keras.models import Sequential\n",
    "from keras.layers import Dense, Activation, Dropout, Flatten, MaxPooling2D\n",
    "from keras.layers.convolutional import Conv2D \n",
    "from keras.utils import np_utils\n",
    "from keras import backend as K\n",
    "\n",
    "from distutils.version import LooseVersion as LV\n",
    "from keras import __version__\n",
    "\n",
    "from IPython.display import SVG\n",
    "from keras.utils.vis_utils import model_to_dot\n",
    "\n",
    "import numpy as np\n",
    "from sklearn.preprocessing import normalize\n",
    "from keras.models import model_from_json\n",
    "from numpy import genfromtxt\n",
    "from spgl1 import spgl1, spg_lasso\n",
    "\n",
    "\n",
    "import tensorflow as tf\n",
    "from tensorflow import norm, Session\n",
    "import matplotlib.pyplot as plt\n",
    "import seaborn as sns\n",
    "sns.set()\n",
    "from sklearn import linear_model\n",
    "print('Using Keras version:', __version__, 'backend:', K.backend())\n",
    "assert(LV(__version__) >= LV(\"2.0.0\"))"
   ]
  },
  {
   "cell_type": "code",
   "execution_count": 3,
   "metadata": {},
   "outputs": [
    {
     "name": "stdout",
     "output_type": "stream",
     "text": [
      "(10, 60000)\n"
     ]
    }
   ],
   "source": [
    "X = genfromtxt('X.csv', delimiter=',')\n",
    "L = genfromtxt('L.csv', delimiter=',')\n",
    "locs = genfromtxt('locs.csv', delimiter=',')\n",
    "\n",
    "#print(X.shape)\n",
    "print(L.shape)"
   ]
  },
  {
   "cell_type": "code",
   "execution_count": 4,
   "metadata": {},
   "outputs": [
    {
     "name": "stdout",
     "output_type": "stream",
     "text": [
      "(570, 60000)\n"
     ]
    }
   ],
   "source": [
    "print(X.shape)"
   ]
  },
  {
   "cell_type": "code",
   "execution_count": 5,
   "metadata": {},
   "outputs": [
    {
     "name": "stdout",
     "output_type": "stream",
     "text": [
      "x.t shape (60000, 570)\n",
      "l.t shape (60000, 10)\n"
     ]
    }
   ],
   "source": [
    "L_t = L.T\n",
    "X_t = X.T\n",
    "\n",
    "#X_t = X_t[:50, :]\n",
    "#L_t = L_t[:50, :]\n",
    "\n",
    "print(\"x.t shape\", X_t.shape)\n",
    "print(\"l.t shape\", L_t.shape)\n",
    "\n",
    "\n",
    "mu = 10\n",
    "\n",
    "def get_weights(mu):\n",
    "    print(\"Mu is \" ,mu)\n",
    "    W = np.empty((X_t.shape[1], L_t.shape[1]))\n",
    "\n",
    "    w = np.empty((X_t.shape[1],))\n",
    "\n",
    "    for i in range(W.shape[1]):\n",
    "            b = L_t[:,i]\n",
    "            w ,resid,grad,info = spg_lasso(X_t, b, mu)\n",
    "            W[:,i] = w\n",
    "\n",
    "\n",
    "    print(W)\n",
    "    print(W.shape)\n",
    "    return W"
   ]
  },
  {
   "cell_type": "code",
   "execution_count": 6,
   "metadata": {},
   "outputs": [
    {
     "name": "stdout",
     "output_type": "stream",
     "text": [
      "Mu is  5\n",
      "[[ 0.57501674  2.07377699  0.         ...  0.17578559  0.53389494\n",
      "   0.04564417]\n",
      " [-0.         -2.92622301  1.26177868 ...  0.79286522  0.\n",
      "   0.        ]\n",
      " [ 0.          0.         -0.         ...  0.          0.\n",
      "   0.        ]\n",
      " ...\n",
      " [ 0.         -0.         -0.         ... -0.         -0.\n",
      "  -0.        ]\n",
      " [-0.         -0.          0.         ... -0.         -0.\n",
      "   0.        ]\n",
      " [ 0.         -0.          0.         ... -0.          0.\n",
      "  -0.        ]]\n",
      "(570, 10)\n",
      "Mu is  150\n"
     ]
    },
    {
     "name": "stderr",
     "output_type": "stream",
     "text": [
      "Linesearch failed with error 1. Damping max BB scaling to 10000.0\n",
      "Linesearch failed with error 1. Damping max BB scaling to 1000.0\n",
      "Linesearch failed with error 1. Damping max BB scaling to 100.0\n",
      "Linesearch failed with error 1. Damping max BB scaling to 10.0\n",
      "Linesearch failed with error 1. Damping max BB scaling to 1.0\n",
      "Linesearch failed with error 1. Damping max BB scaling to 0.1\n",
      "Linesearch failed with error 1. Damping max BB scaling to 10000.0\n",
      "Linesearch failed with error 1. Damping max BB scaling to 1000.0\n",
      "Linesearch failed with error 1. Damping max BB scaling to 100.0\n",
      "Linesearch failed with error 1. Damping max BB scaling to 10.0\n",
      "Linesearch failed with error 1. Damping max BB scaling to 1.0\n",
      "Linesearch failed with error 1. Damping max BB scaling to 0.1\n",
      "Linesearch failed with error 1. Damping max BB scaling to 10000.0\n",
      "Linesearch failed with error 1. Damping max BB scaling to 1000.0\n",
      "Linesearch failed with error 1. Damping max BB scaling to 100.0\n",
      "Linesearch failed with error 1. Damping max BB scaling to 10.0\n",
      "Linesearch failed with error 1. Damping max BB scaling to 1.0\n",
      "Linesearch failed with error 1. Damping max BB scaling to 0.1\n",
      "Linesearch failed with error 1. Damping max BB scaling to 10000.0\n",
      "Linesearch failed with error 1. Damping max BB scaling to 1000.0\n",
      "Linesearch failed with error 1. Damping max BB scaling to 100.0\n",
      "Linesearch failed with error 1. Damping max BB scaling to 10.0\n",
      "Linesearch failed with error 1. Damping max BB scaling to 1.0\n",
      "Linesearch failed with error 1. Damping max BB scaling to 0.1\n",
      "Linesearch failed with error 1. Damping max BB scaling to 10000.0\n",
      "Linesearch failed with error 1. Damping max BB scaling to 1000.0\n",
      "Linesearch failed with error 1. Damping max BB scaling to 100.0\n",
      "Linesearch failed with error 1. Damping max BB scaling to 10.0\n",
      "Linesearch failed with error 1. Damping max BB scaling to 1.0\n",
      "Linesearch failed with error 1. Damping max BB scaling to 0.1\n",
      "Linesearch failed with error 1. Damping max BB scaling to 10000.0\n",
      "Linesearch failed with error 1. Damping max BB scaling to 1000.0\n",
      "Linesearch failed with error 1. Damping max BB scaling to 100.0\n",
      "Linesearch failed with error 1. Damping max BB scaling to 10.0\n",
      "Linesearch failed with error 1. Damping max BB scaling to 1.0\n",
      "Linesearch failed with error 1. Damping max BB scaling to 0.1\n",
      "Linesearch failed with error 1. Damping max BB scaling to 10000.0\n",
      "Linesearch failed with error 1. Damping max BB scaling to 1000.0\n",
      "Linesearch failed with error 1. Damping max BB scaling to 100.0\n",
      "Linesearch failed with error 1. Damping max BB scaling to 10.0\n",
      "Linesearch failed with error 1. Damping max BB scaling to 1.0\n",
      "Linesearch failed with error 1. Damping max BB scaling to 0.1\n",
      "Linesearch failed with error 1. Damping max BB scaling to 10000.0\n",
      "Linesearch failed with error 1. Damping max BB scaling to 1000.0\n",
      "Linesearch failed with error 1. Damping max BB scaling to 100.0\n",
      "Linesearch failed with error 1. Damping max BB scaling to 10.0\n",
      "Linesearch failed with error 1. Damping max BB scaling to 1.0\n",
      "Linesearch failed with error 1. Damping max BB scaling to 0.1\n",
      "Linesearch failed with error 1. Damping max BB scaling to 10000.0\n",
      "Linesearch failed with error 1. Damping max BB scaling to 1000.0\n",
      "Linesearch failed with error 1. Damping max BB scaling to 100.0\n",
      "Linesearch failed with error 1. Damping max BB scaling to 10.0\n",
      "Linesearch failed with error 1. Damping max BB scaling to 1.0\n",
      "Linesearch failed with error 1. Damping max BB scaling to 0.1\n",
      "Linesearch failed with error 1. Damping max BB scaling to 10000.0\n",
      "Linesearch failed with error 1. Damping max BB scaling to 1000.0\n",
      "Linesearch failed with error 1. Damping max BB scaling to 100.0\n",
      "Linesearch failed with error 1. Damping max BB scaling to 10.0\n",
      "Linesearch failed with error 1. Damping max BB scaling to 1.0\n",
      "Linesearch failed with error 1. Damping max BB scaling to 0.1\n"
     ]
    },
    {
     "name": "stdout",
     "output_type": "stream",
     "text": [
      "[[-0.          0.26775051 -0.15700922 ...  0.10414204  0.\n",
      "  -0.        ]\n",
      " [-0.44926221 -3.26626409 -0.         ...  0.30323052 -0.\n",
      "  -0.84712998]\n",
      " [-0.         -0.38793315  0.         ... -0.          0.\n",
      "   0.        ]\n",
      " ...\n",
      " [ 0.         -0.         -0.         ... -0.         -0.\n",
      "  -0.        ]\n",
      " [-0.         -0.         -0.         ...  1.74333652 -0.\n",
      "   0.        ]\n",
      " [ 0.         -0.         -0.         ...  0.          0.\n",
      "  -0.        ]]\n",
      "(570, 10)\n",
      "Mu is  200\n"
     ]
    },
    {
     "name": "stderr",
     "output_type": "stream",
     "text": [
      "Linesearch failed with error 1. Damping max BB scaling to 10000.0\n",
      "Linesearch failed with error 1. Damping max BB scaling to 1000.0\n",
      "Linesearch failed with error 1. Damping max BB scaling to 100.0\n",
      "Linesearch failed with error 1. Damping max BB scaling to 10.0\n",
      "Linesearch failed with error 1. Damping max BB scaling to 1.0\n",
      "Linesearch failed with error 1. Damping max BB scaling to 0.1\n",
      "Linesearch failed with error 1. Damping max BB scaling to 10000.0\n",
      "Linesearch failed with error 1. Damping max BB scaling to 1000.0\n",
      "Linesearch failed with error 1. Damping max BB scaling to 100.0\n",
      "Linesearch failed with error 1. Damping max BB scaling to 10.0\n",
      "Linesearch failed with error 1. Damping max BB scaling to 1.0\n",
      "Linesearch failed with error 1. Damping max BB scaling to 0.1\n",
      "Linesearch failed with error 1. Damping max BB scaling to 10000.0\n",
      "Linesearch failed with error 1. Damping max BB scaling to 1000.0\n",
      "Linesearch failed with error 1. Damping max BB scaling to 100.0\n",
      "Linesearch failed with error 1. Damping max BB scaling to 10.0\n",
      "Linesearch failed with error 1. Damping max BB scaling to 1.0\n",
      "Linesearch failed with error 1. Damping max BB scaling to 0.1\n",
      "Linesearch failed with error 1. Damping max BB scaling to 10000.0\n",
      "Linesearch failed with error 1. Damping max BB scaling to 1000.0\n",
      "Linesearch failed with error 1. Damping max BB scaling to 100.0\n",
      "Linesearch failed with error 1. Damping max BB scaling to 10.0\n",
      "Linesearch failed with error 1. Damping max BB scaling to 1.0\n",
      "Linesearch failed with error 1. Damping max BB scaling to 0.1\n",
      "Linesearch failed with error 1. Damping max BB scaling to 10000.0\n",
      "Linesearch failed with error 1. Damping max BB scaling to 1000.0\n",
      "Linesearch failed with error 1. Damping max BB scaling to 100.0\n",
      "Linesearch failed with error 1. Damping max BB scaling to 10.0\n",
      "Linesearch failed with error 1. Damping max BB scaling to 1.0\n",
      "Linesearch failed with error 1. Damping max BB scaling to 0.1\n",
      "Linesearch failed with error 1. Damping max BB scaling to 10000.0\n",
      "Linesearch failed with error 1. Damping max BB scaling to 1000.0\n",
      "Linesearch failed with error 1. Damping max BB scaling to 100.0\n",
      "Linesearch failed with error 1. Damping max BB scaling to 10.0\n",
      "Linesearch failed with error 1. Damping max BB scaling to 1.0\n",
      "Linesearch failed with error 1. Damping max BB scaling to 0.1\n",
      "Linesearch failed with error 1. Damping max BB scaling to 10000.0\n",
      "Linesearch failed with error 1. Damping max BB scaling to 1000.0\n",
      "Linesearch failed with error 1. Damping max BB scaling to 100.0\n",
      "Linesearch failed with error 1. Damping max BB scaling to 10.0\n",
      "Linesearch failed with error 1. Damping max BB scaling to 1.0\n",
      "Linesearch failed with error 1. Damping max BB scaling to 0.1\n",
      "Linesearch failed with error 1. Damping max BB scaling to 10000.0\n",
      "Linesearch failed with error 1. Damping max BB scaling to 1000.0\n",
      "Linesearch failed with error 1. Damping max BB scaling to 100.0\n",
      "Linesearch failed with error 1. Damping max BB scaling to 10.0\n",
      "Linesearch failed with error 1. Damping max BB scaling to 1.0\n",
      "Linesearch failed with error 1. Damping max BB scaling to 0.1\n",
      "Linesearch failed with error 1. Damping max BB scaling to 10000.0\n",
      "Linesearch failed with error 1. Damping max BB scaling to 1000.0\n",
      "Linesearch failed with error 1. Damping max BB scaling to 100.0\n",
      "Linesearch failed with error 1. Damping max BB scaling to 10.0\n",
      "Linesearch failed with error 1. Damping max BB scaling to 1.0\n",
      "Linesearch failed with error 1. Damping max BB scaling to 0.1\n",
      "Linesearch failed with error 1. Damping max BB scaling to 10000.0\n",
      "Linesearch failed with error 1. Damping max BB scaling to 1000.0\n",
      "Linesearch failed with error 1. Damping max BB scaling to 100.0\n",
      "Linesearch failed with error 1. Damping max BB scaling to 10.0\n",
      "Linesearch failed with error 1. Damping max BB scaling to 1.0\n",
      "Linesearch failed with error 1. Damping max BB scaling to 0.1\n"
     ]
    },
    {
     "name": "stdout",
     "output_type": "stream",
     "text": [
      "[[-0.          0.         -0.24365353 ...  0.3757748   0.\n",
      "  -0.        ]\n",
      " [-0.37955318 -4.42297648 -0.24325882 ...  0.79367954  0.\n",
      "  -0.58209804]\n",
      " [-0.         -0.61530109  0.         ... -0.          0.\n",
      "   0.        ]\n",
      " ...\n",
      " [ 2.01508683  0.         -0.         ... -0.         -0.\n",
      "  -0.        ]\n",
      " [-0.         -0.         -0.         ...  2.05754417  0.\n",
      "   0.        ]\n",
      " [ 0.         -0.         -0.         ...  0.          0.\n",
      "  -0.        ]]\n",
      "(570, 10)\n",
      "Mu is  1000\n"
     ]
    },
    {
     "name": "stderr",
     "output_type": "stream",
     "text": [
      "Linesearch failed with error 1. Damping max BB scaling to 10000.0\n",
      "Linesearch failed with error 1. Damping max BB scaling to 1000.0\n",
      "Linesearch failed with error 1. Damping max BB scaling to 100.0\n",
      "Linesearch failed with error 1. Damping max BB scaling to 10.0\n",
      "Linesearch failed with error 1. Damping max BB scaling to 1.0\n",
      "Linesearch failed with error 1. Damping max BB scaling to 0.1\n",
      "Linesearch failed with error 1. Damping max BB scaling to 10000.0\n",
      "Linesearch failed with error 1. Damping max BB scaling to 1000.0\n",
      "Linesearch failed with error 1. Damping max BB scaling to 100.0\n",
      "Linesearch failed with error 1. Damping max BB scaling to 10.0\n",
      "Linesearch failed with error 1. Damping max BB scaling to 1.0\n",
      "Linesearch failed with error 1. Damping max BB scaling to 0.1\n",
      "Linesearch failed with error 1. Damping max BB scaling to 10000.0\n",
      "Linesearch failed with error 1. Damping max BB scaling to 1000.0\n",
      "Linesearch failed with error 1. Damping max BB scaling to 100.0\n",
      "Linesearch failed with error 1. Damping max BB scaling to 10.0\n",
      "Linesearch failed with error 1. Damping max BB scaling to 1.0\n",
      "Linesearch failed with error 1. Damping max BB scaling to 0.1\n",
      "Linesearch failed with error 1. Damping max BB scaling to 10000.0\n",
      "Linesearch failed with error 1. Damping max BB scaling to 1000.0\n",
      "Linesearch failed with error 1. Damping max BB scaling to 100.0\n",
      "Linesearch failed with error 1. Damping max BB scaling to 10.0\n",
      "Linesearch failed with error 1. Damping max BB scaling to 1.0\n",
      "Linesearch failed with error 1. Damping max BB scaling to 0.1\n",
      "Linesearch failed with error 1. Damping max BB scaling to 10000.0\n",
      "Linesearch failed with error 1. Damping max BB scaling to 1000.0\n",
      "Linesearch failed with error 1. Damping max BB scaling to 100.0\n",
      "Linesearch failed with error 1. Damping max BB scaling to 10.0\n",
      "Linesearch failed with error 1. Damping max BB scaling to 1.0\n",
      "Linesearch failed with error 1. Damping max BB scaling to 0.1\n",
      "Linesearch failed with error 1. Damping max BB scaling to 10000.0\n",
      "Linesearch failed with error 1. Damping max BB scaling to 1000.0\n",
      "Linesearch failed with error 1. Damping max BB scaling to 100.0\n",
      "Linesearch failed with error 1. Damping max BB scaling to 10.0\n",
      "Linesearch failed with error 1. Damping max BB scaling to 1.0\n",
      "Linesearch failed with error 1. Damping max BB scaling to 0.1\n",
      "Linesearch failed with error 1. Damping max BB scaling to 10000.0\n",
      "Linesearch failed with error 1. Damping max BB scaling to 1000.0\n",
      "Linesearch failed with error 1. Damping max BB scaling to 100.0\n",
      "Linesearch failed with error 1. Damping max BB scaling to 10.0\n",
      "Linesearch failed with error 1. Damping max BB scaling to 1.0\n",
      "Linesearch failed with error 1. Damping max BB scaling to 0.1\n",
      "Linesearch failed with error 1. Damping max BB scaling to 10000.0\n",
      "Linesearch failed with error 1. Damping max BB scaling to 1000.0\n",
      "Linesearch failed with error 1. Damping max BB scaling to 100.0\n",
      "Linesearch failed with error 1. Damping max BB scaling to 10.0\n",
      "Linesearch failed with error 1. Damping max BB scaling to 1.0\n",
      "Linesearch failed with error 1. Damping max BB scaling to 0.1\n",
      "Linesearch failed with error 1. Damping max BB scaling to 10000.0\n",
      "Linesearch failed with error 1. Damping max BB scaling to 1000.0\n",
      "Linesearch failed with error 1. Damping max BB scaling to 100.0\n",
      "Linesearch failed with error 1. Damping max BB scaling to 10.0\n",
      "Linesearch failed with error 1. Damping max BB scaling to 1.0\n",
      "Linesearch failed with error 1. Damping max BB scaling to 0.1\n",
      "Linesearch failed with error 1. Damping max BB scaling to 10000.0\n",
      "Linesearch failed with error 1. Damping max BB scaling to 1000.0\n",
      "Linesearch failed with error 1. Damping max BB scaling to 100.0\n",
      "Linesearch failed with error 1. Damping max BB scaling to 10.0\n",
      "Linesearch failed with error 1. Damping max BB scaling to 1.0\n",
      "Linesearch failed with error 1. Damping max BB scaling to 0.1\n"
     ]
    },
    {
     "name": "stdout",
     "output_type": "stream",
     "text": [
      "[[ 0.62252511  1.98717868 -0.46162925 ...  0.37075952  0.3094372\n",
      "  -0.64001931]\n",
      " [-1.04917553 -2.19054007 -1.5444405  ...  3.59993466  2.50578846\n",
      "  -1.89424754]\n",
      " [-1.77550895 -2.09177899  1.49115242 ... -0.13049311 -2.81488808\n",
      "   0.        ]\n",
      " ...\n",
      " [ 5.51365381  2.66439008 -0.         ... -0.47473383  2.52333197\n",
      "  -2.92623497]\n",
      " [-0.38444147  0.53547096 -1.38406741 ...  3.08671262  1.01353145\n",
      "   3.14368518]\n",
      " [ 2.58526692 -0.16007928 -1.51567003 ...  0.01216146  3.20385772\n",
      "   0.94825009]]\n",
      "(570, 10)\n"
     ]
    }
   ],
   "source": [
    "np.savetxt(\"features_%d.csv\" % 5, get_weights(5), delimiter=\",\")\n",
    "np.savetxt(\"features_%d.csv\" % 150, get_weights(150), delimiter=\",\")\n",
    "np.savetxt(\"features_%d.csv\" % 200, get_weights(200), delimiter=\",\")\n",
    "np.savetxt(\"features_%d.csv\" % 1000, get_weights(1000), delimiter=\",\")"
   ]
  },
  {
   "cell_type": "code",
   "execution_count": null,
   "metadata": {},
   "outputs": [],
   "source": []
  }
 ],
 "metadata": {
  "kernelspec": {
   "display_name": "Python 3",
   "language": "python",
   "name": "python3"
  },
  "language_info": {
   "codemirror_mode": {
    "name": "ipython",
    "version": 3
   },
   "file_extension": ".py",
   "mimetype": "text/x-python",
   "name": "python",
   "nbconvert_exporter": "python",
   "pygments_lexer": "ipython3",
   "version": "3.6.5"
  }
 },
 "nbformat": 4,
 "nbformat_minor": 2
}
